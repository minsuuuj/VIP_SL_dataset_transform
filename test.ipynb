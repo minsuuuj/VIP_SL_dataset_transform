{
 "cells": [
  {
   "cell_type": "code",
   "execution_count": 74,
   "metadata": {},
   "outputs": [],
   "source": [
    "import os\n",
    "import json\n",
    "import re"
   ]
  },
  {
   "cell_type": "code",
   "execution_count": 91,
   "metadata": {},
   "outputs": [],
   "source": [
    "meta_value = {\"url\" : \"-\",\\\n",
    "            \"name\" : \" \",\\\n",
    "            \"duration\" : \" \",\\\n",
    "            \"exportedOn\" : \" \"}"
   ]
  },
  {
   "cell_type": "code",
   "execution_count": 79,
   "metadata": {},
   "outputs": [],
   "source": [
    "def trans_timestamp(time_text):\n",
    "    time_list = time_text.split(':')\n",
    "    return float(time_list[-1])"
   ]
  },
  {
   "cell_type": "code",
   "execution_count": 10,
   "metadata": {},
   "outputs": [],
   "source": [
    "data_directory = './data/'"
   ]
  },
  {
   "cell_type": "code",
   "execution_count": 81,
   "metadata": {},
   "outputs": [],
   "source": [
    "def preprocessing_ass(text):\n",
    "    # Dialogue에서 Start, End, Text 추출\n",
    "    dialogue_pattern = r\"Dialogue: (\\d+),(\\d+:\\d+:\\d+\\.\\d+),(\\d+:\\d+:\\d+\\.\\d+),(.+),,(.+)\"\n",
    "    matches = re.findall(dialogue_pattern, text)\n",
    "    dialogue_info = []\n",
    "    for match in matches:\n",
    "        start_time = trans_timestamp(match[1])\n",
    "        end_time = trans_timestamp(match[2])\n",
    "        text = match[-1]\n",
    "        dialogue_info.append({\"start\": start_time, \"end\": end_time, \"attributes\": [{\"name\" : text}]})\n",
    "    return dialogue_info\n",
    "\n",
    "\n",
    "    # with open(json_file_path, 'w') as json_file:\n",
    "    #     json.dump(json_data, json_file, indent=4)"
   ]
  },
  {
   "cell_type": "code",
   "execution_count": 82,
   "metadata": {},
   "outputs": [],
   "source": [
    "\n",
    "with open(data_directory + '1343.ass', \"r\", encoding=\"utf-8\") as file:\n",
    "    ass_content = file.read()\n",
    "    data_value = preprocessing_ass(ass_content)"
   ]
  },
  {
   "cell_type": "code",
   "execution_count": 83,
   "metadata": {},
   "outputs": [
    {
     "data": {
      "text/plain": [
       "[{'start': 2.75, 'end': 2.75, 'attributes': [{'name': '글로스1'}]},\n",
       " {'start': 4.01, 'end': 4.58, 'attributes': [{'name': '글로스2'}]},\n",
       " {'start': 4.58, 'end': 6.01, 'attributes': [{'name': '글로스3'}]},\n",
       " {'start': 6.01, 'end': 7.31, 'attributes': [{'name': '글로스4'}]}]"
      ]
     },
     "execution_count": 83,
     "metadata": {},
     "output_type": "execute_result"
    }
   ],
   "source": [
    "data_value"
   ]
  },
  {
   "cell_type": "code",
   "execution_count": 94,
   "metadata": {},
   "outputs": [],
   "source": [
    "json_data = {\"metaData\" : meta_value, \"data\" : data_value}"
   ]
  },
  {
   "cell_type": "code",
   "execution_count": 95,
   "metadata": {},
   "outputs": [
    {
     "data": {
      "text/plain": [
       "{'metaData': {'url': '-', 'name': ' ', 'duration': ' ', 'exportedOn': ' '},\n",
       " 'data': [{'start': 2.75, 'end': 2.75, 'attributes': [{'name': '글로스1'}]},\n",
       "  {'start': 4.01, 'end': 4.58, 'attributes': [{'name': '글로스2'}]},\n",
       "  {'start': 4.58, 'end': 6.01, 'attributes': [{'name': '글로스3'}]},\n",
       "  {'start': 6.01, 'end': 7.31, 'attributes': [{'name': '글로스4'}]}]}"
      ]
     },
     "execution_count": 95,
     "metadata": {},
     "output_type": "execute_result"
    }
   ],
   "source": [
    "json_data"
   ]
  },
  {
   "cell_type": "code",
   "execution_count": 99,
   "metadata": {},
   "outputs": [],
   "source": [
    "json_file_path = \"./json_data/\" + \"1343.json\"\n",
    "with open(json_file_path, 'w', encoding=\"utf-8\") as json_file:\n",
    "    json.dump(json_data, json_file, indent=4, ensure_ascii=False)"
   ]
  },
  {
   "cell_type": "code",
   "execution_count": null,
   "metadata": {},
   "outputs": [],
   "source": []
  }
 ],
 "metadata": {
  "kernelspec": {
   "display_name": "Python 3",
   "language": "python",
   "name": "python3"
  },
  "language_info": {
   "codemirror_mode": {
    "name": "ipython",
    "version": 3
   },
   "file_extension": ".py",
   "mimetype": "text/x-python",
   "name": "python",
   "nbconvert_exporter": "python",
   "pygments_lexer": "ipython3",
   "version": "3.8.10"
  }
 },
 "nbformat": 4,
 "nbformat_minor": 2
}
